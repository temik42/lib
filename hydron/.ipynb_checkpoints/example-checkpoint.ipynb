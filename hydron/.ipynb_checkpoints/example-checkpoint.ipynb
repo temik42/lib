{
 "cells": [
  {
   "cell_type": "markdown",
   "metadata": {},
   "source": [
    "First, import all necessary modules: "
   ]
  },
  {
   "cell_type": "code",
   "execution_count": 1,
   "metadata": {
    "collapsed": false,
    "slideshow": {
     "slide_type": "-"
    }
   },
   "outputs": [],
   "source": [
    "%matplotlib inline\n",
    "import matplotlib.pyplot as plt\n",
    "import numpy as np\n",
    "import hydron as hd"
   ]
  },
  {
   "cell_type": "markdown",
   "metadata": {},
   "source": [
    "Next, define number of gridpoints, time stepsize and duration of the simulation:"
   ]
  },
  {
   "cell_type": "code",
   "execution_count": 2,
   "metadata": {
    "collapsed": false
   },
   "outputs": [],
   "source": [
    "N = 100    # number of gridpoints, units\n",
    "cfg = hd.loopconfig()\n",
    "\n",
    "dt = 1*cfg.units.sec   # stepsize, s\n",
    "tau = 1e3*cfg.units.sec   # total duration, s\n",
    "    \n",
    "R = 100e8*cfg.units.cm\n",
    "idx = np.arange(0,N,dtype=np.float32)/(N-1)\n",
    "X = np.zeros((2,N), dtype = np.double)    # (N by 3) array of gridpoint coordinates, cm\n",
    "X[0] = np.cos(np.pi*idx)*R              # x-coordinates, cm\n",
    "X[1] = np.sin(np.pi*idx)*R              # y-coordinates, cm*L\n",
    "\n",
    "A = (np.sin(np.pi*idx)+1)#*1e16\n",
    "    \n",
    "\n",
    "#cfg.g = np.array([0,hd.Sun.g_sun])\n",
    "#cfg.Hr = lambda *argv: 1e-3*cfg.units.erg/cfg.units.s\n",
    "cfg.Hr = 1e-3*cfg.units.erg/cfg.units.s/cfg.units.cm**3"
   ]
  },
  {
   "cell_type": "markdown",
   "metadata": {},
   "source": [
    "Then we set the initial values of density $n$, velocity $u$ and temperature $T$:"
   ]
  },
  {
   "cell_type": "code",
   "execution_count": 3,
   "metadata": {
    "collapsed": true
   },
   "outputs": [],
   "source": [
    "#n = 1e11-np.sin(np.pi*idx)*(1e11-1e9)\n",
    "#T = 2e4-np.sin(np.pi*idx)*(2e4-1e6)\n",
    "n = np.ones(N, dtype = np.double)*1e9/cfg.units.cm**3     # density, cm^{-3}\n",
    "u = np.zeros(N, dtype = np.double)*cfg.units.cm/cfg.units.sec        # velocity, cm/s\n",
    "T = np.ones(N, dtype = np.double)*2e6*cfg.units.K     # temperature, K\n",
    "\n",
    "n[[0,-1]] = 1e11/cfg.units.cm**3 \n",
    "T[[0,-1]] = 2e4*cfg.units.K  "
   ]
  },
  {
   "cell_type": "markdown",
   "metadata": {},
   "source": [
    "Further we define the heating rate as a function of time $t$ and coordinate along the loop $s$:"
   ]
  },
  {
   "cell_type": "code",
   "execution_count": null,
   "metadata": {
    "collapsed": false
   },
   "outputs": [],
   "source": [
    "sim = hd.Solver(X,n,u,T,cfg,A)"
   ]
  },
  {
   "cell_type": "code",
   "execution_count": null,
   "metadata": {
    "collapsed": false
   },
   "outputs": [
    {
     "name": "stderr",
     "output_type": "stream",
     "text": [
      "Exception in thread Thread-6:\n",
      "Traceback (most recent call last):\n",
      "  File \"C:\\Anaconda\\lib\\threading.py\", line 801, in __bootstrap_inner\n",
      "    self.run()\n",
      "  File \"hydron\\hydron.py\", line 122, in run\n",
      "    self.solver.step(self.dt)\n",
      "  File \"hydron\\hydron.py\", line 537, in step\n",
      "    self.Hr.step(dt/n_s)\n",
      "  File \"hydron\\hydron.py\", line 205, in step\n",
      "    solver.q[2][idx] += dt*self.get(idx)\n",
      "  File \"hydron\\hydron.py\", line 201, in get\n",
      "    return float(args[0]/scale)\n",
      "  File \"C:\\Anaconda\\lib\\site-packages\\pint\\quantity.py\", line 374, in __float__\n",
      "    raise DimensionalityError(self._units, 'dimensionless')\n",
      "DimensionalityError: Cannot convert from 'centimeter ** 3' to 'dimensionless'\n",
      "\n"
     ]
    }
   ],
   "source": [
    "out = sim.run(dt,tau)"
   ]
  },
  {
   "cell_type": "code",
   "execution_count": null,
   "metadata": {
    "collapsed": false
   },
   "outputs": [],
   "source": [
    "plt.plot(np.log10(np.array(out.n()[-1].to_base_units())))"
   ]
  },
  {
   "cell_type": "code",
   "execution_count": null,
   "metadata": {
    "collapsed": false
   },
   "outputs": [],
   "source": [
    "((1*cfg.units.esu)**2/(1*cfg.units.cm)**2).to_base_units()"
   ]
  },
  {
   "cell_type": "code",
   "execution_count": null,
   "metadata": {
    "collapsed": false
   },
   "outputs": [],
   "source": [
    "plt.figure(figsize = (16,5))\n",
    "plt.subplot(121)\n",
    "plt.plot(out.s()[-1], np.log10(out.n()[-1]))\n",
    "plt.subplot(122)\n",
    "plt.plot(out.s()[-1], np.log10(out.T()[-1]))\n"
   ]
  },
  {
   "cell_type": "code",
   "execution_count": null,
   "metadata": {
    "collapsed": false
   },
   "outputs": [],
   "source": [
    "fig = plt.figure(figsize=(15,7))\n",
    "plt.subplot(1,3,1)\n",
    "plt.title('Density, cm-3 (log scale)', size = 20)\n",
    "plt.xlabel('Length, Mm', size = 15)\n",
    "plt.ylabel('Time, min', size = 15)\n",
    "plt.imshow(np.log10(out.n()), vmin = 8.5, vmax=9.5, \n",
    "           origin = 'lower', aspect = 'auto', interpolation = 'nearest',\n",
    "           extent = [0,out.L()[-1],0,out.tau()])\n",
    "plt.colorbar()\n",
    "\n",
    "plt.subplot(1,3,2)\n",
    "plt.title('Temperature, T (log scale)', size = 20)\n",
    "plt.xlabel('Length, Mm', size = 15)\n",
    "plt.ylabel('Time, min', size = 15)\n",
    "plt.imshow(np.log10(out.T()), vmin = 4.5, vmax=6.5, \n",
    "           origin = 'lower', aspect = 'auto', interpolation = 'nearest',\n",
    "           extent = [0,out.L()[-1],0,out.tau()])\n",
    "plt.colorbar()\n",
    "\n",
    "plt.subplot(1,3,3)\n",
    "plt.title('Velosity, km/s', size = 20)\n",
    "plt.xlabel('Length, Mm', size = 15)\n",
    "plt.ylabel('Time, min', size = 15)\n",
    "plt.imshow(out.u()/1e5, vmin = -100, vmax = 100,\n",
    "           origin = 'lower', aspect = 'auto', interpolation = 'nearest',\n",
    "           extent = [0,out.L()[-1],0,out.tau()])\n",
    "plt.colorbar()\n"
   ]
  },
  {
   "cell_type": "code",
   "execution_count": null,
   "metadata": {
    "collapsed": false
   },
   "outputs": [],
   "source": [
    "#hd.save(sim,'static.sim')\n"
   ]
  },
  {
   "cell_type": "code",
   "execution_count": null,
   "metadata": {
    "collapsed": false
   },
   "outputs": [],
   "source": [
    "plt.plot(sim.x[1:-1],sim.d_dx(sim.p))\n",
    "plt.plot(sim.x[1:-1],(sim.q[0]*sim.g.get('all'))[1:-1])"
   ]
  },
  {
   "cell_type": "code",
   "execution_count": null,
   "metadata": {
    "collapsed": false
   },
   "outputs": [],
   "source": [
    "plt.plot(sim.x[1:-1],(sim.q[0]*sim.g())[1:-1])"
   ]
  },
  {
   "cell_type": "code",
   "execution_count": null,
   "metadata": {
    "collapsed": false
   },
   "outputs": [],
   "source": [
    "plt.plot(sim.x[1:-1],sim.c_s[1:-1]/sim.dxi)"
   ]
  },
  {
   "cell_type": "code",
   "execution_count": null,
   "metadata": {
    "collapsed": false
   },
   "outputs": [],
   "source": [
    "plt.plot(sim.xi,np.abs(sim.Di)/sim.dx**2)"
   ]
  },
  {
   "cell_type": "code",
   "execution_count": null,
   "metadata": {
    "collapsed": false
   },
   "outputs": [],
   "source": [
    "plt.plot(sim.x,sim.w)"
   ]
  },
  {
   "cell_type": "code",
   "execution_count": null,
   "metadata": {
    "collapsed": false
   },
   "outputs": [],
   "source": [
    "plt.plot(sim.x)"
   ]
  },
  {
   "cell_type": "code",
   "execution_count": null,
   "metadata": {
    "collapsed": false
   },
   "outputs": [],
   "source": [
    "plt.plot(sim.T)"
   ]
  },
  {
   "cell_type": "code",
   "execution_count": null,
   "metadata": {
    "collapsed": false
   },
   "outputs": [],
   "source": [
    "plt.plot(sim.dx)"
   ]
  },
  {
   "cell_type": "code",
   "execution_count": null,
   "metadata": {
    "collapsed": false
   },
   "outputs": [],
   "source": [
    "plt.plot(sim.d_dx(sim.A)/sim.A[1:-1])"
   ]
  },
  {
   "cell_type": "code",
   "execution_count": null,
   "metadata": {
    "collapsed": false
   },
   "outputs": [],
   "source": [
    "plt.plot(sim.x)"
   ]
  },
  {
   "cell_type": "code",
   "execution_count": null,
   "metadata": {
    "collapsed": false
   },
   "outputs": [],
   "source": [
    "x = False\n",
    "try:\n",
    "    x\n",
    "except NameError:\n",
    "    pass\n",
    "else:\n",
    "    print x"
   ]
  },
  {
   "cell_type": "code",
   "execution_count": null,
   "metadata": {
    "collapsed": false
   },
   "outputs": [],
   "source": [
    "if (p):\n",
    "    print 'q'"
   ]
  },
  {
   "cell_type": "code",
   "execution_count": null,
   "metadata": {
    "collapsed": false
   },
   "outputs": [],
   "source": [
    "len(np.zeros((10,10)))"
   ]
  },
  {
   "cell_type": "code",
   "execution_count": null,
   "metadata": {
    "collapsed": false
   },
   "outputs": [],
   "source": [
    "a = np.zeros(10)\n",
    "x = [1,2,3]\n",
    "a[x]"
   ]
  },
  {
   "cell_type": "code",
   "execution_count": null,
   "metadata": {
    "collapsed": false
   },
   "outputs": [],
   "source": [
    "sim.g.get(np.arange(0,10))"
   ]
  },
  {
   "cell_type": "code",
   "execution_count": null,
   "metadata": {
    "collapsed": false
   },
   "outputs": [],
   "source": [
    "h = lambda: 0\n",
    "callable(h)"
   ]
  },
  {
   "cell_type": "code",
   "execution_count": null,
   "metadata": {
    "collapsed": false
   },
   "outputs": [],
   "source": [
    "type(1e-18)"
   ]
  },
  {
   "cell_type": "code",
   "execution_count": null,
   "metadata": {
    "collapsed": false
   },
   "outputs": [],
   "source": [
    "sim.Lambda.get()"
   ]
  },
  {
   "cell_type": "code",
   "execution_count": null,
   "metadata": {
    "collapsed": true
   },
   "outputs": [],
   "source": []
  }
 ],
 "metadata": {
  "anaconda-cloud": {},
  "kernelspec": {
   "display_name": "Python 2",
   "language": "python",
   "name": "python2"
  },
  "language_info": {
   "codemirror_mode": {
    "name": "ipython",
    "version": 2
   },
   "file_extension": ".py",
   "mimetype": "text/x-python",
   "name": "python",
   "nbconvert_exporter": "python",
   "pygments_lexer": "ipython2",
   "version": "2.7.12"
  }
 },
 "nbformat": 4,
 "nbformat_minor": 0
}
