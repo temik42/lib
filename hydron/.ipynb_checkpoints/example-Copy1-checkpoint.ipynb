{
 "cells": [
  {
   "cell_type": "code",
   "execution_count": 1,
   "metadata": {
    "collapsed": false,
    "slideshow": {
     "slide_type": "-"
    }
   },
   "outputs": [],
   "source": [
    "%matplotlib inline\n",
    "import matplotlib.pyplot as plt\n",
    "import numpy as np\n",
    "import hydron as hd"
   ]
  },
  {
   "cell_type": "code",
   "execution_count": null,
   "metadata": {
    "collapsed": false
   },
   "outputs": [],
   "source": [
    "#dt,tau,X,n,u,T,config = hd.Sod_tube()\n",
    "#dt,tau,X,n,u,T,config = hd.Boltzmann()\n",
    "dt,tau,X,n,u,T,config = hd.Diffusion()"
   ]
  },
  {
   "cell_type": "code",
   "execution_count": null,
   "metadata": {
    "collapsed": false
   },
   "outputs": [
    {
     "name": "stdout",
     "output_type": "stream",
     "text": [
      "in progress ...\n",
      "|-10%-|-20%-|-30%-|-40%-|-50%-|-60%-|-70%-|-80%-|-90%-|-100%|\n"
     ]
    },
    {
     "name": "stderr",
     "output_type": "stream",
     "text": [
      "Exception in thread Thread-6:\n",
      "Traceback (most recent call last):\n",
      "  File \"C:\\Anaconda\\lib\\threading.py\", line 801, in __bootstrap_inner\n",
      "    self.run()\n",
      "  File \"hydron\\hydron.py\", line 101, in run\n",
      "    self.solver.step(self.dt)\n",
      "  File \"hydron\\hydron.py\", line 340, in step\n",
      "    if (self.courant(dt) > 0.1):\n",
      "  File \"hydron\\hydron.py\", line 324, in courant\n",
      "    np.max((np.abs(self.Di)*dt/self.dx**2)[1:])])\n",
      "AttributeError: 'Solver' object has no attribute 'Di'\n",
      "\n"
     ]
    }
   ],
   "source": [
    "sim = hd.Solver(X,n,u,T,config)\n",
    "out = sim.run(tau,dt)"
   ]
  },
  {
   "cell_type": "code",
   "execution_count": null,
   "metadata": {
    "collapsed": false
   },
   "outputs": [],
   "source": [
    "#out = sim.run(tau,out)"
   ]
  },
  {
   "cell_type": "code",
   "execution_count": null,
   "metadata": {
    "collapsed": false
   },
   "outputs": [],
   "source": [
    "print sim.time"
   ]
  },
  {
   "cell_type": "code",
   "execution_count": null,
   "metadata": {
    "collapsed": false
   },
   "outputs": [],
   "source": [
    "plt.figure(figsize = (16,5))\n",
    "plt.subplot(121)\n",
    "plt.plot(out.s(), out.n()[-1])\n",
    "plt.subplot(122)\n",
    "plt.plot(out.s(), out.T()[-1])\n",
    "print np.min(out.n()[-1]),np.max(out.T()[-1])\n",
    "#print np.sum(out.n()[0]*sim.ds), np.sum(sim.q[0]*sim.ds)"
   ]
  },
  {
   "cell_type": "code",
   "execution_count": null,
   "metadata": {
    "collapsed": false
   },
   "outputs": [],
   "source": [
    "fig = plt.figure(figsize=(15,7))\n",
    "plt.subplot(1,3,1)\n",
    "plt.title('Density', size = 20)\n",
    "plt.xlabel('Length', size = 15)\n",
    "plt.ylabel('Time', size = 15)\n",
    "plt.imshow(out.n(), vmin = 0, vmax = 1, \n",
    "           origin = 'lower', aspect = 'auto', interpolation = 'nearest',\n",
    "           extent = [0,out.L(),0,out.tau()])\n",
    "plt.colorbar()\n",
    "\n",
    "plt.subplot(1,3,2)\n",
    "plt.title('Temperature', size = 20)\n",
    "plt.xlabel('Length', size = 15)\n",
    "plt.ylabel('Time', size = 15)\n",
    "plt.imshow(out.T(), vmin = 0, vmax = 2, \n",
    "           origin = 'lower', aspect = 'auto', interpolation = 'nearest',\n",
    "           extent = [0,out.L(),0,out.tau()])\n",
    "plt.colorbar()\n",
    "\n",
    "plt.subplot(1,3,3)\n",
    "plt.title('Velosity', size = 20)\n",
    "plt.xlabel('Length', size = 15)\n",
    "plt.ylabel('Time', size = 15)\n",
    "plt.imshow(out.u(), vmin = -1, vmax = 1,\n",
    "           origin = 'lower', aspect = 'auto', interpolation = 'nearest',\n",
    "           extent = [0,out.L(),0,out.tau()])\n",
    "plt.colorbar()"
   ]
  },
  {
   "cell_type": "code",
   "execution_count": null,
   "metadata": {
    "collapsed": false
   },
   "outputs": [],
   "source": [
    "hd.save(sim,'mysim')\n",
    "q = hd.load('mysim')"
   ]
  },
  {
   "cell_type": "code",
   "execution_count": null,
   "metadata": {
    "collapsed": false
   },
   "outputs": [],
   "source": [
    "sim.scale.t"
   ]
  },
  {
   "cell_type": "code",
   "execution_count": null,
   "metadata": {
    "collapsed": false
   },
   "outputs": [],
   "source": [
    "plt.plot(sim.ds)"
   ]
  },
  {
   "cell_type": "code",
   "execution_count": null,
   "metadata": {
    "collapsed": true
   },
   "outputs": [],
   "source": []
  }
 ],
 "metadata": {
  "anaconda-cloud": {},
  "kernelspec": {
   "display_name": "Python 2",
   "language": "python",
   "name": "python2"
  },
  "language_info": {
   "codemirror_mode": {
    "name": "ipython",
    "version": 2
   },
   "file_extension": ".py",
   "mimetype": "text/x-python",
   "name": "python",
   "nbconvert_exporter": "python",
   "pygments_lexer": "ipython2",
   "version": "2.7.12"
  }
 },
 "nbformat": 4,
 "nbformat_minor": 0
}
