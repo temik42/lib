{
 "cells": [
  {
   "cell_type": "markdown",
   "metadata": {},
   "source": [
    "First, import all necessary modules: "
   ]
  },
  {
   "cell_type": "code",
   "execution_count": 1,
   "metadata": {
    "collapsed": false,
    "slideshow": {
     "slide_type": "-"
    }
   },
   "outputs": [],
   "source": [
    "%matplotlib inline\n",
    "import matplotlib.pyplot as plt\n",
    "import numpy as np\n",
    "import hydron as hd"
   ]
  },
  {
   "cell_type": "markdown",
   "metadata": {},
   "source": [
    "Next, define number of gridpoints, time stepsize and duration of the simulation:"
   ]
  },
  {
   "cell_type": "markdown",
   "metadata": {
    "collapsed": true
   },
   "source": [
    "N = 1000       # number of gridpoints, units\n",
    "dt = 1e-4    # stepsize, s\n",
    "tau = 1   # total duration, s"
   ]
  },
  {
   "cell_type": "markdown",
   "metadata": {},
   "source": [
    "Now define the loop geometry. For this example we consider cemi-circular loop with radius $R = 10~Mm$. The loop cross-section is set constant by default. The direction of gravity is directed opposite to z-axis (also by default)."
   ]
  },
  {
   "cell_type": "markdown",
   "metadata": {
    "collapsed": false
   },
   "source": [
    "R = 1e8       # loop radius, cm\n",
    "L = np.pi*R   # loop length, cm\n",
    "\n",
    "#idx = np.arange(0,N,dtype=np.float32)/(N-1)\n",
    "\n",
    "#X = np.zeros((3,N), dtype = np.double)    # (N by 3) array of gridpoint coordinates, cm\n",
    "#X[0] = np.cos(np.pi*idx)*R              # x-coordinates, cm\n",
    "#X[2] = np.sin(np.pi*idx)*R              # y-coordinates, cm\n",
    "#X[2] = idx*R"
   ]
  },
  {
   "cell_type": "markdown",
   "metadata": {},
   "source": [
    "Then we set the initial values of density $n$, velocity $u$ and temperature $T$:"
   ]
  },
  {
   "cell_type": "code",
   "execution_count": 2,
   "metadata": {
    "collapsed": false
   },
   "outputs": [],
   "source": [
    "dt,tau,X,n,u,T,hrate,config = hd.Sod_tube()"
   ]
  },
  {
   "cell_type": "markdown",
   "metadata": {},
   "source": [
    "Further we define the heating rate as a function of time $t$ and coordinate along the loop $s$:"
   ]
  },
  {
   "cell_type": "markdown",
   "metadata": {
    "collapsed": false
   },
   "source": [
    "def hrate(s,t):\n",
    "    return 1e-3#1e-2*np.exp(-(s/L-0.5)**2/2/0.01**2)#*np.exp(-(t-300)**2/2/25**2)\n"
   ]
  },
  {
   "cell_type": "code",
   "execution_count": 3,
   "metadata": {
    "collapsed": false
   },
   "outputs": [
    {
     "name": "stdout",
     "output_type": "stream",
     "text": [
      "in progress ...\n",
      "|-10%-|-20%-|-30%-|-40%-|-50%-|-60%-|-70%-|-80%-|-90%-|-100%|\n",
      "|xxxxx|xxxxx|xxxxx|xxxxx|xxxxx|xxxxx|xxxxx|xxxxx|xxxxx|xxxxx\n",
      "done!\n",
      "Elapsed time: 1.27 seconds\n"
     ]
    },
    {
     "data": {
      "text/plain": [
       "<hydron.hydron.Solver instance at 0x0000000006B91148>"
      ]
     },
     "execution_count": 3,
     "metadata": {},
     "output_type": "execute_result"
    }
   ],
   "source": [
    "sim = hd.Solver(dt,X,n,u,T,hrate,config)\n",
    "sim.run(tau)\n"
   ]
  },
  {
   "cell_type": "code",
   "execution_count": 4,
   "metadata": {
    "collapsed": false
   },
   "outputs": [
    {
     "name": "stdout",
     "output_type": "stream",
     "text": [
      "0.1\n"
     ]
    }
   ],
   "source": [
    "print sim.time"
   ]
  },
  {
   "cell_type": "code",
   "execution_count": null,
   "metadata": {
    "collapsed": false
   },
   "outputs": [
    {
     "name": "stdout",
     "output_type": "stream",
     "text": [
      "1.25 1.42481324639\n"
     ]
    },
    {
     "data": {
      "image/png": "[encoded data removed]",
      "text/plain": [
       "<matplotlib.figure.Figure at 0x6c62e80>"
      ]
     },
     "metadata": {},
     "output_type": "display_data"
    }
   ],
   "source": [
    "plt.figure(figsize = (16,5))\n",
    "plt.subplot(121)\n",
    "plt.plot(sim.s*sim.sc.x, sim.out.n[-1]*sim.sc.n)\n",
    "plt.subplot(122)\n",
    "plt.plot(sim.s*sim.sc.x, sim.out.T[-1]*sim.sc.T)\n",
    "print np.min(sim.out.n[-1]),np.max(sim.out.T[-1])"
   ]
  },
  {
   "cell_type": "code",
   "execution_count": null,
   "metadata": {
    "collapsed": false
   },
   "outputs": [],
   "source": [
    "fig = plt.figure(figsize=(15,7))\n",
    "plt.subplot(1,3,1)\n",
    "plt.title('Density', size = 20)\n",
    "plt.xlabel('Length', size = 15)\n",
    "plt.ylabel('Time', size = 15)\n",
    "plt.imshow(sim.out.n*sim.sc.n, vmin = 0, vmax = 10, \n",
    "           origin = 'lower', aspect = 'auto', interpolation = 'nearest',\n",
    "           extent = [0,sim.L*sim.sc.x,0,(sim.time)])\n",
    "plt.colorbar()\n",
    "\n",
    "plt.subplot(1,3,2)\n",
    "plt.title('Temperature', size = 20)\n",
    "plt.xlabel('Length', size = 15)\n",
    "plt.ylabel('Time', size = 15)\n",
    "plt.imshow(sim.out.T*sim.sc.T, vmin = 0, vmax = 2, \n",
    "           origin = 'lower', aspect = 'auto', interpolation = 'nearest',\n",
    "           extent = [0,sim.L*sim.sc.x,0,(sim.time)])\n",
    "plt.colorbar()\n",
    "\n",
    "plt.subplot(1,3,3)\n",
    "plt.title('Velosity', size = 20)\n",
    "plt.xlabel('Length', size = 15)\n",
    "plt.ylabel('Time', size = 15)\n",
    "plt.imshow(sim.out.u*sim.sc.u, vmin = -1, vmax = 1,\n",
    "           origin = 'lower', aspect = 'auto', interpolation = 'nearest',\n",
    "           extent = [0,sim.L*sim.sc.x,0,(sim.time)])\n",
    "plt.colorbar()"
   ]
  },
  {
   "cell_type": "code",
   "execution_count": null,
   "metadata": {
    "collapsed": false
   },
   "outputs": [],
   "source": [
    "fig = plt.figure(figsize=(15,7))\n",
    "plt.subplot(1,3,1)\n",
    "plt.title('Density, cm-3 (log scale)', size = 20)\n",
    "plt.xlabel('Length, Mm', size = 15)\n",
    "plt.ylabel('Time, min', size = 15)\n",
    "plt.imshow(np.log10(sim.out.n)+np.log10(sim.sc.n), vmin = 8.5, vmax=9.5, \n",
    "           origin = 'lower', aspect = 'auto', interpolation = 'nearest',\n",
    "           extent = [0,sim.L*sim.sc.x/1e8,0,(sim.time)])\n",
    "plt.colorbar()\n",
    "\n",
    "plt.subplot(1,3,2)\n",
    "plt.title('Temperature, T (log scale)', size = 20)\n",
    "plt.xlabel('Length, Mm', size = 15)\n",
    "plt.ylabel('Time, min', size = 15)\n",
    "plt.imshow(np.log10(sim.out.T)+np.log10(sim.sc.T), vmin = 3.5, vmax=4.5, \n",
    "           origin = 'lower', aspect = 'auto', interpolation = 'nearest',\n",
    "           extent = [0,sim.L*sim.sc.x/1e8,0,(sim.time)])\n",
    "plt.colorbar()\n",
    "\n",
    "plt.subplot(1,3,3)\n",
    "plt.title('Velosity, km/s', size = 20)\n",
    "plt.xlabel('Length, Mm', size = 15)\n",
    "plt.ylabel('Time, min', size = 15)\n",
    "plt.imshow(np.array(sim.out.u)*sim.sc.u/1e5, vmin = -1, vmax = 1,\n",
    "           origin = 'lower', aspect = 'auto', interpolation = 'nearest',\n",
    "           extent = [0,sim.L*sim.sc.x/1e8,0,(sim.time)])\n",
    "plt.colorbar()\n"
   ]
  },
  {
   "cell_type": "code",
   "execution_count": null,
   "metadata": {
    "collapsed": false
   },
   "outputs": [],
   "source": [
    "logT = np.arange(0,100)*0.03+4\n",
    "logRL = np.log10(hd.RadLoss().get(10**logT))\n",
    "plt.plot(logT,logRL)"
   ]
  },
  {
   "cell_type": "code",
   "execution_count": null,
   "metadata": {
    "collapsed": false
   },
   "outputs": [],
   "source": [
    "import sys;lib_dir = 'Q:\\\\python\\\\lib';sys.path.append(lib_dir)\n",
    "import Sun\n",
    "1.16e-31/(2*Sun.k_b)**2"
   ]
  },
  {
   "cell_type": "code",
   "execution_count": null,
   "metadata": {
    "collapsed": false
   },
   "outputs": [],
   "source": [
    "plt.plot(sim.radloss())"
   ]
  },
  {
   "cell_type": "code",
   "execution_count": null,
   "metadata": {
    "collapsed": false
   },
   "outputs": [],
   "source": [
    "plt.plot(sim.u)"
   ]
  },
  {
   "cell_type": "code",
   "execution_count": null,
   "metadata": {
    "collapsed": false
   },
   "outputs": [],
   "source": [
    "sim.sc.u"
   ]
  },
  {
   "cell_type": "code",
   "execution_count": null,
   "metadata": {
    "collapsed": false
   },
   "outputs": [],
   "source": [
    "sim.mainloop.niter % sim.mainloop.each"
   ]
  },
  {
   "cell_type": "code",
   "execution_count": null,
   "metadata": {
    "collapsed": false
   },
   "outputs": [],
   "source": [
    "5000 % 99"
   ]
  },
  {
   "cell_type": "code",
   "execution_count": null,
   "metadata": {
    "collapsed": false
   },
   "outputs": [],
   "source": [
    "a = np.ones(10)\n",
    "a = a.reshape((1,10))"
   ]
  },
  {
   "cell_type": "code",
   "execution_count": null,
   "metadata": {
    "collapsed": false
   },
   "outputs": [],
   "source": [
    "a.shape"
   ]
  },
  {
   "cell_type": "code",
   "execution_count": null,
   "metadata": {
    "collapsed": true
   },
   "outputs": [],
   "source": []
  }
 ],
 "metadata": {
  "anaconda-cloud": {},
  "kernelspec": {
   "display_name": "Python 2",
   "language": "python",
   "name": "python2"
  },
  "language_info": {
   "codemirror_mode": {
    "name": "ipython",
    "version": 2
   },
   "file_extension": ".py",
   "mimetype": "text/x-python",
   "name": "python",
   "nbconvert_exporter": "python",
   "pygments_lexer": "ipython2",
   "version": "2.7.12"
  }
 },
 "nbformat": 4,
 "nbformat_minor": 0
}
