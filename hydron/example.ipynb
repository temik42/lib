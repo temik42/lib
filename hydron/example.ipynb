{
 "cells": [
  {
   "cell_type": "markdown",
   "metadata": {},
   "source": [
    "First, import all necessary modules: "
   ]
  },
  {
   "cell_type": "code",
   "execution_count": 1,
   "metadata": {
    "collapsed": false,
    "slideshow": {
     "slide_type": "-"
    }
   },
   "outputs": [],
   "source": [
    "%matplotlib inline\n",
    "import matplotlib.pyplot as plt\n",
    "import numpy as np\n",
    "import hydron as hd"
   ]
  },
  {
   "cell_type": "markdown",
   "metadata": {},
   "source": [
    "Next, define number of gridpoints, time stepsize and duration of the simulation:"
   ]
  },
  {
   "cell_type": "code",
   "execution_count": 2,
   "metadata": {
    "collapsed": false
   },
   "outputs": [],
   "source": [
    "N = 100     # number of gridpoints, units\n",
    "dt = 1e-2   # stepsize, s\n",
    "tau = 1e3   # total duration, s\n",
    "    \n",
    "R = 100e8\n",
    "idx = np.arange(0,N,dtype=np.float32)/(N-1)\n",
    "X = np.zeros((3,N), dtype = np.double)    # (N by 3) array of gridpoint coordinates, cm\n",
    "X[0] = np.cos(np.pi*idx)*R              # x-coordinates, cm\n",
    "X[2] = np.sin(np.pi*idx)*R              # y-coordinates, cm*L\n",
    "    \n",
    "cfg = hd.loopconfig()\n",
    "cfg.Hr = lambda s,t: 1e-3"
   ]
  },
  {
   "cell_type": "markdown",
   "metadata": {},
   "source": [
    "Then we set the initial values of density $n$, velocity $u$ and temperature $T$:"
   ]
  },
  {
   "cell_type": "code",
   "execution_count": 3,
   "metadata": {
    "collapsed": true
   },
   "outputs": [],
   "source": [
    "#n = 1e11-np.sin(np.pi*idx)*(1e11-1e9)\n",
    "#T = 2e4-np.sin(np.pi*idx)*(2e4-1e6)\n",
    "n = np.ones(N, dtype = np.double)*1e9     # density, cm^{-3}\n",
    "u = np.zeros(N, dtype = np.double)        # velocity, cm/s\n",
    "T = np.ones(N, dtype = np.double)*2e4     # temperature, K"
   ]
  },
  {
   "cell_type": "markdown",
   "metadata": {},
   "source": [
    "Further we define the heating rate as a function of time $t$ and coordinate along the loop $s$:"
   ]
  },
  {
   "cell_type": "code",
   "execution_count": null,
   "metadata": {
    "collapsed": false
   },
   "outputs": [],
   "source": [
    "sim = hd.Solver(X,n,u,T,cfg)"
   ]
  },
  {
   "cell_type": "code",
   "execution_count": null,
   "metadata": {
    "collapsed": false
   },
   "outputs": [
    {
     "name": "stdout",
     "output_type": "stream",
     "text": [
      "in progress...\t52%"
     ]
    }
   ],
   "source": [
    "out = sim.run(dt,tau)"
   ]
  },
  {
   "cell_type": "code",
   "execution_count": null,
   "metadata": {
    "collapsed": false
   },
   "outputs": [],
   "source": [
    "plt.figure(figsize = (16,5))\n",
    "plt.subplot(121)\n",
    "plt.plot(out.s(), np.log10(out.n()[-1]))\n",
    "plt.subplot(122)\n",
    "plt.plot(out.s(), np.log10(out.T()[-1]))\n",
    "print np.min(out.n()[-1]),np.max(out.T()[-1])\n",
    "#print np.sum(out.n()[0]*sim.ds), np.sum(sim.q[0]*sim.ds)"
   ]
  },
  {
   "cell_type": "code",
   "execution_count": null,
   "metadata": {
    "collapsed": false
   },
   "outputs": [],
   "source": [
    "fig = plt.figure(figsize=(15,7))\n",
    "plt.subplot(1,3,1)\n",
    "plt.title('Density, cm-3 (log scale)', size = 20)\n",
    "plt.xlabel('Length, Mm', size = 15)\n",
    "plt.ylabel('Time, min', size = 15)\n",
    "plt.imshow(np.log10(out.n()), vmin = 8.5, vmax=9.5, \n",
    "           origin = 'lower', aspect = 'auto', interpolation = 'nearest',\n",
    "           extent = [0,out.L(),0,out.tau()])\n",
    "plt.colorbar()\n",
    "\n",
    "plt.subplot(1,3,2)\n",
    "plt.title('Temperature, T (log scale)', size = 20)\n",
    "plt.xlabel('Length, Mm', size = 15)\n",
    "plt.ylabel('Time, min', size = 15)\n",
    "plt.imshow(np.log10(out.T()), vmin = 4.5, vmax=6.5, \n",
    "           origin = 'lower', aspect = 'auto', interpolation = 'nearest',\n",
    "           extent = [0,out.L(),0,out.tau()])\n",
    "plt.colorbar()\n",
    "\n",
    "plt.subplot(1,3,3)\n",
    "plt.title('Velosity, km/s', size = 20)\n",
    "plt.xlabel('Length, Mm', size = 15)\n",
    "plt.ylabel('Time, min', size = 15)\n",
    "plt.imshow(out.u()/1e5, vmin = -100, vmax = 100,\n",
    "           origin = 'lower', aspect = 'auto', interpolation = 'nearest',\n",
    "           extent = [0,out.L(),0,out.tau()])\n",
    "plt.colorbar()\n"
   ]
  },
  {
   "cell_type": "code",
   "execution_count": null,
   "metadata": {
    "collapsed": false
   },
   "outputs": [],
   "source": [
    "hd.save(sim,'static.sim')\n"
   ]
  },
  {
   "cell_type": "code",
   "execution_count": null,
   "metadata": {
    "collapsed": true
   },
   "outputs": [],
   "source": []
  }
 ],
 "metadata": {
  "anaconda-cloud": {},
  "kernelspec": {
   "display_name": "Python 2",
   "language": "python",
   "name": "python2"
  },
  "language_info": {
   "codemirror_mode": {
    "name": "ipython",
    "version": 2
   },
   "file_extension": ".py",
   "mimetype": "text/x-python",
   "name": "python",
   "nbconvert_exporter": "python",
   "pygments_lexer": "ipython2",
   "version": "2.7.12"
  }
 },
 "nbformat": 4,
 "nbformat_minor": 0
}
